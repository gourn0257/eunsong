{
 "cells": [
  {
   "cell_type": "code",
   "execution_count": 1,
   "id": "f3c6c181-a692-4075-971d-d24b1b3ecd99",
   "metadata": {},
   "outputs": [],
   "source": [
    "import qrcode"
   ]
  },
  {
   "cell_type": "code",
   "execution_count": 2,
   "id": "3d905aef-6fc5-4999-a208-2cc6da484fe3",
   "metadata": {},
   "outputs": [],
   "source": [
    "qr_data = \"https://github.com/gourn0257/eunsong\"\n",
    "qr_img = qrcode.make(qr_data)\n",
    " \n",
    "qr_img.save(\"github_QRcode.png\")"
   ]
  },
  {
   "cell_type": "code",
   "execution_count": null,
   "id": "2e439dcb-44ef-43a2-8186-00a94fb709ce",
   "metadata": {},
   "outputs": [],
   "source": []
  }
 ],
 "metadata": {
  "kernelspec": {
   "display_name": "Python 3 (ipykernel)",
   "language": "python",
   "name": "python3"
  },
  "language_info": {
   "codemirror_mode": {
    "name": "ipython",
    "version": 3
   },
   "file_extension": ".py",
   "mimetype": "text/x-python",
   "name": "python",
   "nbconvert_exporter": "python",
   "pygments_lexer": "ipython3",
   "version": "3.12.9"
  }
 },
 "nbformat": 4,
 "nbformat_minor": 5
}
